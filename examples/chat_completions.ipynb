{
 "cells": [
  {
   "attachments": {},
   "cell_type": "markdown",
   "metadata": {},
   "source": [
    "# Basic ChatGPT inputs using chat completions\n",
    "\n",
    "These examples demonstrate how the assistant responds using the [GPT3.5 Turbo model](https://platform.openai.com/docs/models/gpt-3-5) and [chat completions](https://platform.openai.com/docs/guides/chat). Check out the official [OpenAI Cookbook](https://github.com/openai/openai-cookbook) repository to learn more."
   ]
  },
  {
   "cell_type": "code",
   "execution_count": null,
   "metadata": {},
   "outputs": [],
   "source": [
    "import os\n",
    "import openai\n",
    "\n",
    "openai.api_key = os.getenv('OPENAI_API_KEY')\n",
    "\n",
    "MODEL = 'gpt-3.5-turbo'\n",
    "\n",
    "completion = openai.ChatCompletion.create(\n",
    "    model = MODEL,\n",
    "    temperature = 0.8,\n",
    "    max_tokens = 2000,\n",
    "    messages = [\n",
    "        {\"role\": \"system\", \"content\": \"You are a helpful assistant who knows well about music.\"},\n",
    "        {\"role\": \"user\", \"content\": \"Name all songs under Nirvana's Nevermind album.\"}\n",
    "    ]\n",
    ")\n",
    "print(completion.choices[0].message.content)"
   ]
  },
  {
   "attachments": {},
   "cell_type": "markdown",
   "metadata": {},
   "source": [
    "Output:\n",
    "\n",
    "Sure! Here are all the songs under Nirvana's Nevermind album:\n",
    "\n",
    "1. Smells Like Teen Spirit\n",
    "2. In Bloom\n",
    "3. Come As You Are\n",
    "4. Breed\n",
    "5. Lithium\n",
    "6. Polly\n",
    "7. Territorial Pissings\n",
    "8. Drain You\n",
    "9. Lounge Act\n",
    "10. Stay Away\n",
    "11. On a Plain\n",
    "12. Something in the Way (also includes hidden track \"Endless, Nameless\" on some releases) \n",
    "\n",
    "Hope that helps!"
   ]
  },
  {
   "cell_type": "code",
   "execution_count": null,
   "metadata": {},
   "outputs": [],
   "source": [
    "import os\n",
    "import requests\n",
    "import openai\n",
    "\n",
    "openai.api_key = os.getenv('OPENAI_API_KEY')\n",
    "\n",
    "MODEL = 'gpt-3.5-turbo'\n",
    "\n",
    "URL = \"https://api.openai.com/v1/chat/completions\"\n",
    "\n",
    "payload = {\n",
    "    \"model\": MODEL,\n",
    "    \"temperature\" : 1.0,\n",
    "    \"messages\" : [\n",
    "        {\"role\": \"system\", \"content\": \"You are a helpful assistant.\"},\n",
    "        {\"role\": \"user\", \"content\": \"Who won the International Viewer's Choice Awards for Asia' at the 1997 MTV Video Music Awards?\"},\n",
    "        {\"role\": \"assistant\", \"content\": \"The Eraserheads.\"},\n",
    "        {\"role\": \"user\", \"content\": \"Name the song title, its album and release date.\"}\n",
    "    ]\n",
    "}\n",
    "\n",
    "headers = {\n",
    "    \"Content-Type\": \"application/json\",\n",
    "    \"Authorization\": f\"Bearer {openai.api_key}\"\n",
    "}\n",
    "\n",
    "response = requests.post(URL, headers=headers, json=payload)\n",
    "response = response.json()\n",
    "\n",
    "print(response['choices'][0]['message']['content'])"
   ]
  },
  {
   "attachments": {},
   "cell_type": "markdown",
   "metadata": {},
   "source": [
    "The song is \"Ang Huling El Bimbo\", released in 1995 as part of the album \"Cutterpillow\"."
   ]
  }
 ],
 "metadata": {
  "kernelspec": {
   "display_name": "myenv",
   "language": "python",
   "name": "python3"
  },
  "language_info": {
   "codemirror_mode": {
    "name": "ipython",
    "version": 3
   },
   "file_extension": ".py",
   "mimetype": "text/x-python",
   "name": "python",
   "nbconvert_exporter": "python",
   "pygments_lexer": "ipython3",
   "version": "3.10.11"
  },
  "orig_nbformat": 4
 },
 "nbformat": 4,
 "nbformat_minor": 2
}
